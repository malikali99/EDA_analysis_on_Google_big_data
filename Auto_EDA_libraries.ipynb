{
 "cells": [
  {
   "cell_type": "markdown",
   "metadata": {},
   "source": [
    "# **`Google Playstore Exploratory Data Analysis`**\n",
    "<div style=\"text-align:center;\">\n",
    "  <img src=\"./googel.gif\" alt=\"My Image\">\n",
    "</div>\n",
    "\n",
    "**`Author Name:`** Malik Hasnain Ali\\\n",
    "**`Email ID:`** 512yaali@gmai.com\\\n",
    "**`Linkedin profile:`** [hasnainali99](https://www.linkedin.com/in/hasnainali99/)\n",
    "\n",
    "**`Data Source:`**\\\n",
    "It is a secondary data which is collected from the following [link](https://www.kaggle.com/datasets/gauthamp10/google-playstore-apps)\n",
    "\n",
    "**`Data Collection:`**\\\n",
    "Data collected can be seen as a raw .csv file.\n",
    "\n",
    "**`Data Storage:`**\\\n",
    "The collected data has been stored in the Comma Separated Value file Google-Playstore.csv. Each column in the dataset is uniquely identified by its app Id.\n",
    "\n",
    "**`Data Publish Year:`**\n",
    "- June-2021\n",
    "  \n",
    "**`Tools:`**\n",
    "- Python\n",
    "- Numpy\n",
    "- Matplotlib\n",
    "- Pandas\n",
    "- Markdown\n",
    "- Seaborn\n",
    "- Plotly\n",
    "- Excel\n",
    "\n",
    "**`Data Cleaning/Preparation:`**\\\n",
    "In the initial data preparation phase, we performed the following tasks:\n",
    "1. Data loading and inspection\n",
    "2. Handling Missing values\n",
    "3. Handling Outliers\n",
    "4. Data Cleaning and formating\n",
    "\n",
    "## **The dataset collected from the source has the following description** \n",
    "\n",
    "**`Description:`**\\\n",
    "This dataset contains 2.3+ million observations. \n",
    "Today, more and more businesses are offering their services through mobile applications. Because of this massive number of apps it is hard to compete and get your product in front of potential customers. So, it is important to make thorough research into your niche category and find out how you would stack up against your competitors. \n",
    "\n",
    "This [dataset](https://www.kaggle.com/gauthamp10/google-playstore-apps) of more than 2.4 million apps on the Google Play Store can be used for exactly that purpose. This notebook tries to compare the performance of free and paid apps in the top 8 most popular app categories on Google Play Store (excluding games):\n",
    "- Education\n",
    "- Business\n",
    "- Music & Audio\n",
    "- Tools\n",
    "- Entertainment\n",
    "- Lifestyle\n",
    "- Books & Reference\n",
    "- Food & Drink\n",
    "\n",
    "**`Acknowledgements`:**\n",
    "I couldn't have build this dataset without the help of Github Education and switched to facundoolano/google-play-scraper for sane reasons.\n",
    "\n",
    "**`Features:`**\n",
    "\n",
    "- **App Name:** Name of the app\n",
    "- **App ID:** Package Name\n",
    "- **Category:** App Category\n",
    "- **Rating:** Average rating\n",
    "- **Rating Count:** Number of Rating\n",
    "- **Installs:** Approximate install count\n",
    "- **Minimum Installs:** Approximate minimum app install count\n",
    "- **Maximum Installs:** Approximate maximum app install count\n",
    "- **Free:** Whether app is free or paid\n",
    "- **Price:** App price\n",
    "- **Currency:** App currency 👫\n",
    "- **Size:** Size of application package\n",
    "- **Minimum Andriod:** Minimum android version supported\n",
    "- **Developer ID:** Developer ID in Google Playstore\n",
    "- **Developer Website:** Website of the developer\n",
    "- **Developer Email:** Email_ID of developer\n",
    "- **Price Released:** App launched date on Google Playstore\n",
    "- **Last updated:** Last App update date\n",
    "- **Content Rating:** Maturity level of app\n",
    "- **Privacy Policy:** Privacy policy form developer\n",
    "- **Ad supported:** Ad support in app\n",
    "- **In-App Purchases:** In-App purcahses in app\n",
    "- **Editors Choice:** Weather rated as editor choice\n",
    "- **Scraped Time:** Scraped data-time in GMT"
   ]
  },
  {
   "attachments": {},
   "cell_type": "markdown",
   "metadata": {},
   "source": []
  },
  {
   "attachments": {},
   "cell_type": "markdown",
   "metadata": {},
   "source": [
    "#### **`Super ways to conduct EDA in one Go:`**"
   ]
  },
  {
   "attachments": {},
   "cell_type": "markdown",
   "metadata": {},
   "source": [
    "#### **`01: First ways to report EDA using Pandas Profiling`**"
   ]
  },
  {
   "cell_type": "code",
   "execution_count": 1,
   "metadata": {},
   "outputs": [
    {
     "data": {
      "application/vnd.jupyter.widget-view+json": {
       "model_id": "4e6a8674910f4fa68136fab757588134",
       "version_major": 2,
       "version_minor": 0
      },
      "text/plain": [
       "Summarize dataset:   0%|          | 0/5 [00:00<?, ?it/s]"
      ]
     },
     "metadata": {},
     "output_type": "display_data"
    },
    {
     "data": {
      "application/vnd.jupyter.widget-view+json": {
       "model_id": "3830e1f31e814a30845a538a6fb799d4",
       "version_major": 2,
       "version_minor": 0
      },
      "text/plain": [
       "Generate report structure:   0%|          | 0/1 [00:00<?, ?it/s]"
      ]
     },
     "metadata": {},
     "output_type": "display_data"
    },
    {
     "data": {
      "application/vnd.jupyter.widget-view+json": {
       "model_id": "2205f9f8681649b28c19ff389d56ca89",
       "version_major": 2,
       "version_minor": 0
      },
      "text/plain": [
       "Render HTML:   0%|          | 0/1 [00:00<?, ?it/s]"
      ]
     },
     "metadata": {},
     "output_type": "display_data"
    },
    {
     "data": {
      "application/vnd.jupyter.widget-view+json": {
       "model_id": "0879ccbdefb24c36ab15b6614173033c",
       "version_major": 2,
       "version_minor": 0
      },
      "text/plain": [
       "Export report to file:   0%|          | 0/1 [00:00<?, ?it/s]"
      ]
     },
     "metadata": {},
     "output_type": "display_data"
    }
   ],
   "source": [
    "# Step:1--Import Libraries\n",
    "import numpy as np\n",
    "import pandas as pd\n",
    "import matplotlib.pyplot as plt\n",
    "import seaborn as sns \n",
    "from ydata_profiling import ProfileReport\n",
    "\n",
    "# Step:2--import Libraries\n",
    "df = sns.load_dataset('tips')\n",
    "\n",
    "# Step:3--Profile Report Generation\n",
    "report = ProfileReport(df)\n",
    "\n",
    "# Step:4-- Save report to HTML file\n",
    "report.to_file('eda_report.html')\n"
   ]
  },
  {
   "attachments": {},
   "cell_type": "markdown",
   "metadata": {},
   "source": [
    "#### **`02: Report EDA using Skimpy library`**"
   ]
  },
  {
   "cell_type": "code",
   "execution_count": null,
   "metadata": {},
   "outputs": [],
   "source": [
    "pip install skimpy"
   ]
  },
  {
   "attachments": {},
   "cell_type": "markdown",
   "metadata": {},
   "source": [
    "##### **`EDA with skimpy`**"
   ]
  },
  {
   "cell_type": "code",
   "execution_count": 3,
   "metadata": {},
   "outputs": [
    {
     "data": {
      "text/html": [
       "<pre style=\"white-space:pre;overflow-x:auto;line-height:normal;font-family:Menlo,'DejaVu Sans Mono',consolas,'Courier New',monospace\">╭──────────────────────────────────────────────── skimpy summary ─────────────────────────────────────────────────╮\n",
       "│ <span style=\"font-style: italic\">         Data Summary         </span> <span style=\"font-style: italic\">      Data Types       </span> <span style=\"font-style: italic\">       Categories        </span>                                │\n",
       "│ ┏━━━━━━━━━━━━━━━━━━━┳━━━━━━━━┓ ┏━━━━━━━━━━━━━┳━━━━━━━┓ ┏━━━━━━━━━━━━━━━━━━━━━━━┓                                │\n",
       "│ ┃<span style=\"color: #008080; text-decoration-color: #008080; font-weight: bold\"> dataframe         </span>┃<span style=\"color: #008080; text-decoration-color: #008080; font-weight: bold\"> Values </span>┃ ┃<span style=\"color: #008080; text-decoration-color: #008080; font-weight: bold\"> Column Type </span>┃<span style=\"color: #008080; text-decoration-color: #008080; font-weight: bold\"> Count </span>┃ ┃<span style=\"color: #008080; text-decoration-color: #008080; font-weight: bold\"> Categorical Variables </span>┃                                │\n",
       "│ ┡━━━━━━━━━━━━━━━━━━━╇━━━━━━━━┩ ┡━━━━━━━━━━━━━╇━━━━━━━┩ ┡━━━━━━━━━━━━━━━━━━━━━━━┩                                │\n",
       "│ │ Number of rows    │ 244    │ │ category    │ 4     │ │ sex                   │                                │\n",
       "│ │ Number of columns │ 7      │ │ float64     │ 2     │ │ smoker                │                                │\n",
       "│ └───────────────────┴────────┘ │ int32       │ 1     │ │ day                   │                                │\n",
       "│                                └─────────────┴───────┘ │ time                  │                                │\n",
       "│                                                        └───────────────────────┘                                │\n",
       "│ <span style=\"font-style: italic\">                                                    number                                                    </span>  │\n",
       "│ ┏━━━━━━━━━━━━━━━━━━━━━┳━━━━━━━┳━━━━━━━━━━┳━━━━━━━━━┳━━━━━━━━━┳━━━━━━━━┳━━━━━━━━┳━━━━━━━━┳━━━━━━━━━┳━━━━━━━━━━┓  │\n",
       "│ ┃<span style=\"font-weight: bold\"> column_name         </span>┃<span style=\"font-weight: bold\"> NA    </span>┃<span style=\"font-weight: bold\"> NA %     </span>┃<span style=\"font-weight: bold\"> mean    </span>┃<span style=\"font-weight: bold\"> sd      </span>┃<span style=\"font-weight: bold\"> p0     </span>┃<span style=\"font-weight: bold\"> p25    </span>┃<span style=\"font-weight: bold\"> p75    </span>┃<span style=\"font-weight: bold\"> p100    </span>┃<span style=\"font-weight: bold\"> hist     </span>┃  │\n",
       "│ ┡━━━━━━━━━━━━━━━━━━━━━╇━━━━━━━╇━━━━━━━━━━╇━━━━━━━━━╇━━━━━━━━━╇━━━━━━━━╇━━━━━━━━╇━━━━━━━━╇━━━━━━━━━╇━━━━━━━━━━┩  │\n",
       "│ │ <span style=\"color: #af87ff; text-decoration-color: #af87ff\">total_bill         </span> │ <span style=\"color: #008080; text-decoration-color: #008080\">    0</span> │ <span style=\"color: #008080; text-decoration-color: #008080\">       0</span> │ <span style=\"color: #008080; text-decoration-color: #008080\">     20</span> │ <span style=\"color: #008080; text-decoration-color: #008080\">    8.9</span> │ <span style=\"color: #008080; text-decoration-color: #008080\">   3.1</span> │ <span style=\"color: #008080; text-decoration-color: #008080\">    13</span> │ <span style=\"color: #008080; text-decoration-color: #008080\">    24</span> │ <span style=\"color: #008080; text-decoration-color: #008080\">     51</span> │ <span style=\"color: #008000; text-decoration-color: #008000\"> ▂█▄▂▁▁ </span> │  │\n",
       "│ │ <span style=\"color: #af87ff; text-decoration-color: #af87ff\">tip                </span> │ <span style=\"color: #008080; text-decoration-color: #008080\">    0</span> │ <span style=\"color: #008080; text-decoration-color: #008080\">       0</span> │ <span style=\"color: #008080; text-decoration-color: #008080\">      3</span> │ <span style=\"color: #008080; text-decoration-color: #008080\">    1.4</span> │ <span style=\"color: #008080; text-decoration-color: #008080\">     1</span> │ <span style=\"color: #008080; text-decoration-color: #008080\">     2</span> │ <span style=\"color: #008080; text-decoration-color: #008080\">   3.6</span> │ <span style=\"color: #008080; text-decoration-color: #008080\">     10</span> │ <span style=\"color: #008000; text-decoration-color: #008000\">  ██▃▁  </span> │  │\n",
       "│ │ <span style=\"color: #af87ff; text-decoration-color: #af87ff\">size               </span> │ <span style=\"color: #008080; text-decoration-color: #008080\">    0</span> │ <span style=\"color: #008080; text-decoration-color: #008080\">       0</span> │ <span style=\"color: #008080; text-decoration-color: #008080\">    2.6</span> │ <span style=\"color: #008080; text-decoration-color: #008080\">   0.95</span> │ <span style=\"color: #008080; text-decoration-color: #008080\">     1</span> │ <span style=\"color: #008080; text-decoration-color: #008080\">     2</span> │ <span style=\"color: #008080; text-decoration-color: #008080\">     3</span> │ <span style=\"color: #008080; text-decoration-color: #008080\">      6</span> │ <span style=\"color: #008000; text-decoration-color: #008000\">   █▂▂  </span> │  │\n",
       "│ └─────────────────────┴───────┴──────────┴─────────┴─────────┴────────┴────────┴────────┴─────────┴──────────┘  │\n",
       "│ <span style=\"font-style: italic\">                                                   category                                                   </span>  │\n",
       "│ ┏━━━━━━━━━━━━━━━━━━━━━━━━━━━━━━━━━━┳━━━━━━━━━━━┳━━━━━━━━━━━━━━━━┳━━━━━━━━━━━━━━━━━━━━━━━┳━━━━━━━━━━━━━━━━━━━━┓  │\n",
       "│ ┃<span style=\"font-weight: bold\"> column_name                      </span>┃<span style=\"font-weight: bold\"> NA        </span>┃<span style=\"font-weight: bold\"> NA %           </span>┃<span style=\"font-weight: bold\"> ordered               </span>┃<span style=\"font-weight: bold\"> unique             </span>┃  │\n",
       "│ ┡━━━━━━━━━━━━━━━━━━━━━━━━━━━━━━━━━━╇━━━━━━━━━━━╇━━━━━━━━━━━━━━━━╇━━━━━━━━━━━━━━━━━━━━━━━╇━━━━━━━━━━━━━━━━━━━━┩  │\n",
       "│ │ <span style=\"color: #af87ff; text-decoration-color: #af87ff\">sex                             </span> │ <span style=\"color: #008080; text-decoration-color: #008080\">        0</span> │ <span style=\"color: #008080; text-decoration-color: #008080\">             0</span> │ <span style=\"color: #00d7ff; text-decoration-color: #00d7ff\">False                </span> │ <span style=\"color: #008080; text-decoration-color: #008080\">                 2</span> │  │\n",
       "│ │ <span style=\"color: #af87ff; text-decoration-color: #af87ff\">smoker                          </span> │ <span style=\"color: #008080; text-decoration-color: #008080\">        0</span> │ <span style=\"color: #008080; text-decoration-color: #008080\">             0</span> │ <span style=\"color: #00d7ff; text-decoration-color: #00d7ff\">False                </span> │ <span style=\"color: #008080; text-decoration-color: #008080\">                 2</span> │  │\n",
       "│ │ <span style=\"color: #af87ff; text-decoration-color: #af87ff\">day                             </span> │ <span style=\"color: #008080; text-decoration-color: #008080\">        0</span> │ <span style=\"color: #008080; text-decoration-color: #008080\">             0</span> │ <span style=\"color: #00d7ff; text-decoration-color: #00d7ff\">False                </span> │ <span style=\"color: #008080; text-decoration-color: #008080\">                 4</span> │  │\n",
       "│ │ <span style=\"color: #af87ff; text-decoration-color: #af87ff\">time                            </span> │ <span style=\"color: #008080; text-decoration-color: #008080\">        0</span> │ <span style=\"color: #008080; text-decoration-color: #008080\">             0</span> │ <span style=\"color: #00d7ff; text-decoration-color: #00d7ff\">False                </span> │ <span style=\"color: #008080; text-decoration-color: #008080\">                 2</span> │  │\n",
       "│ └──────────────────────────────────┴───────────┴────────────────┴───────────────────────┴────────────────────┘  │\n",
       "╰────────────────────────────────────────────────────── End ──────────────────────────────────────────────────────╯\n",
       "</pre>\n"
      ],
      "text/plain": [
       "╭──────────────────────────────────────────────── skimpy summary ─────────────────────────────────────────────────╮\n",
       "│ \u001b[3m         Data Summary         \u001b[0m \u001b[3m      Data Types       \u001b[0m \u001b[3m       Categories        \u001b[0m                                │\n",
       "│ ┏━━━━━━━━━━━━━━━━━━━┳━━━━━━━━┓ ┏━━━━━━━━━━━━━┳━━━━━━━┓ ┏━━━━━━━━━━━━━━━━━━━━━━━┓                                │\n",
       "│ ┃\u001b[1;36m \u001b[0m\u001b[1;36mdataframe        \u001b[0m\u001b[1;36m \u001b[0m┃\u001b[1;36m \u001b[0m\u001b[1;36mValues\u001b[0m\u001b[1;36m \u001b[0m┃ ┃\u001b[1;36m \u001b[0m\u001b[1;36mColumn Type\u001b[0m\u001b[1;36m \u001b[0m┃\u001b[1;36m \u001b[0m\u001b[1;36mCount\u001b[0m\u001b[1;36m \u001b[0m┃ ┃\u001b[1;36m \u001b[0m\u001b[1;36mCategorical Variables\u001b[0m\u001b[1;36m \u001b[0m┃                                │\n",
       "│ ┡━━━━━━━━━━━━━━━━━━━╇━━━━━━━━┩ ┡━━━━━━━━━━━━━╇━━━━━━━┩ ┡━━━━━━━━━━━━━━━━━━━━━━━┩                                │\n",
       "│ │ Number of rows    │ 244    │ │ category    │ 4     │ │ sex                   │                                │\n",
       "│ │ Number of columns │ 7      │ │ float64     │ 2     │ │ smoker                │                                │\n",
       "│ └───────────────────┴────────┘ │ int32       │ 1     │ │ day                   │                                │\n",
       "│                                └─────────────┴───────┘ │ time                  │                                │\n",
       "│                                                        └───────────────────────┘                                │\n",
       "│ \u001b[3m                                                    number                                                    \u001b[0m  │\n",
       "│ ┏━━━━━━━━━━━━━━━━━━━━━┳━━━━━━━┳━━━━━━━━━━┳━━━━━━━━━┳━━━━━━━━━┳━━━━━━━━┳━━━━━━━━┳━━━━━━━━┳━━━━━━━━━┳━━━━━━━━━━┓  │\n",
       "│ ┃\u001b[1m \u001b[0m\u001b[1mcolumn_name        \u001b[0m\u001b[1m \u001b[0m┃\u001b[1m \u001b[0m\u001b[1mNA   \u001b[0m\u001b[1m \u001b[0m┃\u001b[1m \u001b[0m\u001b[1mNA %    \u001b[0m\u001b[1m \u001b[0m┃\u001b[1m \u001b[0m\u001b[1mmean   \u001b[0m\u001b[1m \u001b[0m┃\u001b[1m \u001b[0m\u001b[1msd     \u001b[0m\u001b[1m \u001b[0m┃\u001b[1m \u001b[0m\u001b[1mp0    \u001b[0m\u001b[1m \u001b[0m┃\u001b[1m \u001b[0m\u001b[1mp25   \u001b[0m\u001b[1m \u001b[0m┃\u001b[1m \u001b[0m\u001b[1mp75   \u001b[0m\u001b[1m \u001b[0m┃\u001b[1m \u001b[0m\u001b[1mp100   \u001b[0m\u001b[1m \u001b[0m┃\u001b[1m \u001b[0m\u001b[1mhist    \u001b[0m\u001b[1m \u001b[0m┃  │\n",
       "│ ┡━━━━━━━━━━━━━━━━━━━━━╇━━━━━━━╇━━━━━━━━━━╇━━━━━━━━━╇━━━━━━━━━╇━━━━━━━━╇━━━━━━━━╇━━━━━━━━╇━━━━━━━━━╇━━━━━━━━━━┩  │\n",
       "│ │ \u001b[38;5;141mtotal_bill         \u001b[0m │ \u001b[36m    0\u001b[0m │ \u001b[36m       0\u001b[0m │ \u001b[36m     20\u001b[0m │ \u001b[36m    8.9\u001b[0m │ \u001b[36m   3.1\u001b[0m │ \u001b[36m    13\u001b[0m │ \u001b[36m    24\u001b[0m │ \u001b[36m     51\u001b[0m │ \u001b[32m ▂█▄▂▁▁ \u001b[0m │  │\n",
       "│ │ \u001b[38;5;141mtip                \u001b[0m │ \u001b[36m    0\u001b[0m │ \u001b[36m       0\u001b[0m │ \u001b[36m      3\u001b[0m │ \u001b[36m    1.4\u001b[0m │ \u001b[36m     1\u001b[0m │ \u001b[36m     2\u001b[0m │ \u001b[36m   3.6\u001b[0m │ \u001b[36m     10\u001b[0m │ \u001b[32m  ██▃▁  \u001b[0m │  │\n",
       "│ │ \u001b[38;5;141msize               \u001b[0m │ \u001b[36m    0\u001b[0m │ \u001b[36m       0\u001b[0m │ \u001b[36m    2.6\u001b[0m │ \u001b[36m   0.95\u001b[0m │ \u001b[36m     1\u001b[0m │ \u001b[36m     2\u001b[0m │ \u001b[36m     3\u001b[0m │ \u001b[36m      6\u001b[0m │ \u001b[32m   █▂▂  \u001b[0m │  │\n",
       "│ └─────────────────────┴───────┴──────────┴─────────┴─────────┴────────┴────────┴────────┴─────────┴──────────┘  │\n",
       "│ \u001b[3m                                                   category                                                   \u001b[0m  │\n",
       "│ ┏━━━━━━━━━━━━━━━━━━━━━━━━━━━━━━━━━━┳━━━━━━━━━━━┳━━━━━━━━━━━━━━━━┳━━━━━━━━━━━━━━━━━━━━━━━┳━━━━━━━━━━━━━━━━━━━━┓  │\n",
       "│ ┃\u001b[1m \u001b[0m\u001b[1mcolumn_name                     \u001b[0m\u001b[1m \u001b[0m┃\u001b[1m \u001b[0m\u001b[1mNA       \u001b[0m\u001b[1m \u001b[0m┃\u001b[1m \u001b[0m\u001b[1mNA %          \u001b[0m\u001b[1m \u001b[0m┃\u001b[1m \u001b[0m\u001b[1mordered              \u001b[0m\u001b[1m \u001b[0m┃\u001b[1m \u001b[0m\u001b[1munique            \u001b[0m\u001b[1m \u001b[0m┃  │\n",
       "│ ┡━━━━━━━━━━━━━━━━━━━━━━━━━━━━━━━━━━╇━━━━━━━━━━━╇━━━━━━━━━━━━━━━━╇━━━━━━━━━━━━━━━━━━━━━━━╇━━━━━━━━━━━━━━━━━━━━┩  │\n",
       "│ │ \u001b[38;5;141msex                             \u001b[0m │ \u001b[36m        0\u001b[0m │ \u001b[36m             0\u001b[0m │ \u001b[38;5;45mFalse                \u001b[0m │ \u001b[36m                 2\u001b[0m │  │\n",
       "│ │ \u001b[38;5;141msmoker                          \u001b[0m │ \u001b[36m        0\u001b[0m │ \u001b[36m             0\u001b[0m │ \u001b[38;5;45mFalse                \u001b[0m │ \u001b[36m                 2\u001b[0m │  │\n",
       "│ │ \u001b[38;5;141mday                             \u001b[0m │ \u001b[36m        0\u001b[0m │ \u001b[36m             0\u001b[0m │ \u001b[38;5;45mFalse                \u001b[0m │ \u001b[36m                 4\u001b[0m │  │\n",
       "│ │ \u001b[38;5;141mtime                            \u001b[0m │ \u001b[36m        0\u001b[0m │ \u001b[36m             0\u001b[0m │ \u001b[38;5;45mFalse                \u001b[0m │ \u001b[36m                 2\u001b[0m │  │\n",
       "│ └──────────────────────────────────┴───────────┴────────────────┴───────────────────────┴────────────────────┘  │\n",
       "╰────────────────────────────────────────────────────── End ──────────────────────────────────────────────────────╯\n"
      ]
     },
     "metadata": {},
     "output_type": "display_data"
    }
   ],
   "source": [
    "# import libraires\n",
    "import seaborn as sns\n",
    "from skimpy import skim\n",
    "# step:2--Import dataset\n",
    "df = sns.load_dataset('tips')\n",
    "# Step:3-- Profile Report generation\n",
    "skim(df)\n"
   ]
  },
  {
   "attachments": {},
   "cell_type": "markdown",
   "metadata": {},
   "source": [
    "#### **`03: Report EDA using dtale library`**"
   ]
  },
  {
   "cell_type": "code",
   "execution_count": null,
   "metadata": {},
   "outputs": [],
   "source": [
    "pip install dtale"
   ]
  },
  {
   "cell_type": "code",
   "execution_count": 5,
   "metadata": {},
   "outputs": [],
   "source": [
    "# Import Libraries\n",
    "import dtale as dt\n",
    " "
   ]
  },
  {
   "cell_type": "code",
   "execution_count": null,
   "metadata": {},
   "outputs": [],
   "source": [
    "# step:2--Import dataset\n",
    "df = sns.load_dataset('tips')\n",
    "# Step:3-- Profile Report generation\n",
    "dt.show(df)"
   ]
  },
  {
   "attachments": {},
   "cell_type": "markdown",
   "metadata": {},
   "source": [
    "##### **`We apply skimpy library in Diamonds dataaset `**"
   ]
  },
  {
   "cell_type": "code",
   "execution_count": 7,
   "metadata": {},
   "outputs": [
    {
     "data": {
      "text/html": [
       "<pre style=\"white-space:pre;overflow-x:auto;line-height:normal;font-family:Menlo,'DejaVu Sans Mono',consolas,'Courier New',monospace\">╭──────────────────────────────────────────────── skimpy summary ─────────────────────────────────────────────────╮\n",
       "│ <span style=\"font-style: italic\">         Data Summary         </span> <span style=\"font-style: italic\">      Data Types       </span> <span style=\"font-style: italic\">       Categories        </span>                                │\n",
       "│ ┏━━━━━━━━━━━━━━━━━━━┳━━━━━━━━┓ ┏━━━━━━━━━━━━━┳━━━━━━━┓ ┏━━━━━━━━━━━━━━━━━━━━━━━┓                                │\n",
       "│ ┃<span style=\"color: #008080; text-decoration-color: #008080; font-weight: bold\"> dataframe         </span>┃<span style=\"color: #008080; text-decoration-color: #008080; font-weight: bold\"> Values </span>┃ ┃<span style=\"color: #008080; text-decoration-color: #008080; font-weight: bold\"> Column Type </span>┃<span style=\"color: #008080; text-decoration-color: #008080; font-weight: bold\"> Count </span>┃ ┃<span style=\"color: #008080; text-decoration-color: #008080; font-weight: bold\"> Categorical Variables </span>┃                                │\n",
       "│ ┡━━━━━━━━━━━━━━━━━━━╇━━━━━━━━┩ ┡━━━━━━━━━━━━━╇━━━━━━━┩ ┡━━━━━━━━━━━━━━━━━━━━━━━┩                                │\n",
       "│ │ Number of rows    │ 53940  │ │ float64     │ 6     │ │ cut                   │                                │\n",
       "│ │ Number of columns │ 10     │ │ category    │ 3     │ │ color                 │                                │\n",
       "│ └───────────────────┴────────┘ │ int32       │ 1     │ │ clarity               │                                │\n",
       "│                                └─────────────┴───────┘ └───────────────────────┘                                │\n",
       "│ <span style=\"font-style: italic\">                                                    number                                                    </span>  │\n",
       "│ ┏━━━━━━━━━━━━━━━━━━━━┳━━━━━━┳━━━━━━━━━┳━━━━━━━━━┳━━━━━━━━━┳━━━━━━━━┳━━━━━━━━┳━━━━━━━━━┳━━━━━━━━━━┳━━━━━━━━━━━┓  │\n",
       "│ ┃<span style=\"font-weight: bold\"> column_name        </span>┃<span style=\"font-weight: bold\"> NA   </span>┃<span style=\"font-weight: bold\"> NA %    </span>┃<span style=\"font-weight: bold\"> mean    </span>┃<span style=\"font-weight: bold\"> sd      </span>┃<span style=\"font-weight: bold\"> p0     </span>┃<span style=\"font-weight: bold\"> p25    </span>┃<span style=\"font-weight: bold\"> p75     </span>┃<span style=\"font-weight: bold\"> p100     </span>┃<span style=\"font-weight: bold\"> hist      </span>┃  │\n",
       "│ ┡━━━━━━━━━━━━━━━━━━━━╇━━━━━━╇━━━━━━━━━╇━━━━━━━━━╇━━━━━━━━━╇━━━━━━━━╇━━━━━━━━╇━━━━━━━━━╇━━━━━━━━━━╇━━━━━━━━━━━┩  │\n",
       "│ │ <span style=\"color: #af87ff; text-decoration-color: #af87ff\">carat             </span> │ <span style=\"color: #008080; text-decoration-color: #008080\">   0</span> │ <span style=\"color: #008080; text-decoration-color: #008080\">      0</span> │ <span style=\"color: #008080; text-decoration-color: #008080\">    0.8</span> │ <span style=\"color: #008080; text-decoration-color: #008080\">   0.47</span> │ <span style=\"color: #008080; text-decoration-color: #008080\">   0.2</span> │ <span style=\"color: #008080; text-decoration-color: #008080\">   0.4</span> │ <span style=\"color: #008080; text-decoration-color: #008080\">      1</span> │ <span style=\"color: #008080; text-decoration-color: #008080\">       5</span> │ <span style=\"color: #008000; text-decoration-color: #008000\">   █▃    </span> │  │\n",
       "│ │ <span style=\"color: #af87ff; text-decoration-color: #af87ff\">depth             </span> │ <span style=\"color: #008080; text-decoration-color: #008080\">   0</span> │ <span style=\"color: #008080; text-decoration-color: #008080\">      0</span> │ <span style=\"color: #008080; text-decoration-color: #008080\">     62</span> │ <span style=\"color: #008080; text-decoration-color: #008080\">    1.4</span> │ <span style=\"color: #008080; text-decoration-color: #008080\">    43</span> │ <span style=\"color: #008080; text-decoration-color: #008080\">    61</span> │ <span style=\"color: #008080; text-decoration-color: #008080\">     62</span> │ <span style=\"color: #008080; text-decoration-color: #008080\">      79</span> │ <span style=\"color: #008000; text-decoration-color: #008000\">    ▂█   </span> │  │\n",
       "│ │ <span style=\"color: #af87ff; text-decoration-color: #af87ff\">table             </span> │ <span style=\"color: #008080; text-decoration-color: #008080\">   0</span> │ <span style=\"color: #008080; text-decoration-color: #008080\">      0</span> │ <span style=\"color: #008080; text-decoration-color: #008080\">     57</span> │ <span style=\"color: #008080; text-decoration-color: #008080\">    2.2</span> │ <span style=\"color: #008080; text-decoration-color: #008080\">    43</span> │ <span style=\"color: #008080; text-decoration-color: #008080\">    56</span> │ <span style=\"color: #008080; text-decoration-color: #008080\">     59</span> │ <span style=\"color: #008080; text-decoration-color: #008080\">      95</span> │ <span style=\"color: #008000; text-decoration-color: #008000\">    █▁   </span> │  │\n",
       "│ │ <span style=\"color: #af87ff; text-decoration-color: #af87ff\">price             </span> │ <span style=\"color: #008080; text-decoration-color: #008080\">   0</span> │ <span style=\"color: #008080; text-decoration-color: #008080\">      0</span> │ <span style=\"color: #008080; text-decoration-color: #008080\">   3900</span> │ <span style=\"color: #008080; text-decoration-color: #008080\">   4000</span> │ <span style=\"color: #008080; text-decoration-color: #008080\">   330</span> │ <span style=\"color: #008080; text-decoration-color: #008080\">   950</span> │ <span style=\"color: #008080; text-decoration-color: #008080\">   5300</span> │ <span style=\"color: #008080; text-decoration-color: #008080\">   19000</span> │ <span style=\"color: #008000; text-decoration-color: #008000\">  █▃▁▁   </span> │  │\n",
       "│ │ <span style=\"color: #af87ff; text-decoration-color: #af87ff\">x                 </span> │ <span style=\"color: #008080; text-decoration-color: #008080\">   0</span> │ <span style=\"color: #008080; text-decoration-color: #008080\">      0</span> │ <span style=\"color: #008080; text-decoration-color: #008080\">    5.7</span> │ <span style=\"color: #008080; text-decoration-color: #008080\">    1.1</span> │ <span style=\"color: #008080; text-decoration-color: #008080\">     0</span> │ <span style=\"color: #008080; text-decoration-color: #008080\">   4.7</span> │ <span style=\"color: #008080; text-decoration-color: #008080\">    6.5</span> │ <span style=\"color: #008080; text-decoration-color: #008080\">      11</span> │ <span style=\"color: #008000; text-decoration-color: #008000\">    ██▂  </span> │  │\n",
       "│ │ <span style=\"color: #af87ff; text-decoration-color: #af87ff\">y                 </span> │ <span style=\"color: #008080; text-decoration-color: #008080\">   0</span> │ <span style=\"color: #008080; text-decoration-color: #008080\">      0</span> │ <span style=\"color: #008080; text-decoration-color: #008080\">    5.7</span> │ <span style=\"color: #008080; text-decoration-color: #008080\">    1.1</span> │ <span style=\"color: #008080; text-decoration-color: #008080\">     0</span> │ <span style=\"color: #008080; text-decoration-color: #008080\">   4.7</span> │ <span style=\"color: #008080; text-decoration-color: #008080\">    6.5</span> │ <span style=\"color: #008080; text-decoration-color: #008080\">      59</span> │ <span style=\"color: #008000; text-decoration-color: #008000\">    █    </span> │  │\n",
       "│ │ <span style=\"color: #af87ff; text-decoration-color: #af87ff\">z                 </span> │ <span style=\"color: #008080; text-decoration-color: #008080\">   0</span> │ <span style=\"color: #008080; text-decoration-color: #008080\">      0</span> │ <span style=\"color: #008080; text-decoration-color: #008080\">    3.5</span> │ <span style=\"color: #008080; text-decoration-color: #008080\">   0.71</span> │ <span style=\"color: #008080; text-decoration-color: #008080\">     0</span> │ <span style=\"color: #008080; text-decoration-color: #008080\">   2.9</span> │ <span style=\"color: #008080; text-decoration-color: #008080\">      4</span> │ <span style=\"color: #008080; text-decoration-color: #008080\">      32</span> │ <span style=\"color: #008000; text-decoration-color: #008000\">    █    </span> │  │\n",
       "│ └────────────────────┴──────┴─────────┴─────────┴─────────┴────────┴────────┴─────────┴──────────┴───────────┘  │\n",
       "│ <span style=\"font-style: italic\">                                                   category                                                   </span>  │\n",
       "│ ┏━━━━━━━━━━━━━━━━━━━━━━━━━━━━━━━━━━┳━━━━━━━━━━━┳━━━━━━━━━━━━━━━━┳━━━━━━━━━━━━━━━━━━━━━━━┳━━━━━━━━━━━━━━━━━━━━┓  │\n",
       "│ ┃<span style=\"font-weight: bold\"> column_name                      </span>┃<span style=\"font-weight: bold\"> NA        </span>┃<span style=\"font-weight: bold\"> NA %           </span>┃<span style=\"font-weight: bold\"> ordered               </span>┃<span style=\"font-weight: bold\"> unique             </span>┃  │\n",
       "│ ┡━━━━━━━━━━━━━━━━━━━━━━━━━━━━━━━━━━╇━━━━━━━━━━━╇━━━━━━━━━━━━━━━━╇━━━━━━━━━━━━━━━━━━━━━━━╇━━━━━━━━━━━━━━━━━━━━┩  │\n",
       "│ │ <span style=\"color: #af87ff; text-decoration-color: #af87ff\">cut                             </span> │ <span style=\"color: #008080; text-decoration-color: #008080\">        0</span> │ <span style=\"color: #008080; text-decoration-color: #008080\">             0</span> │ <span style=\"color: #00d7ff; text-decoration-color: #00d7ff\">False                </span> │ <span style=\"color: #008080; text-decoration-color: #008080\">                 5</span> │  │\n",
       "│ │ <span style=\"color: #af87ff; text-decoration-color: #af87ff\">color                           </span> │ <span style=\"color: #008080; text-decoration-color: #008080\">        0</span> │ <span style=\"color: #008080; text-decoration-color: #008080\">             0</span> │ <span style=\"color: #00d7ff; text-decoration-color: #00d7ff\">False                </span> │ <span style=\"color: #008080; text-decoration-color: #008080\">                 7</span> │  │\n",
       "│ │ <span style=\"color: #af87ff; text-decoration-color: #af87ff\">clarity                         </span> │ <span style=\"color: #008080; text-decoration-color: #008080\">        0</span> │ <span style=\"color: #008080; text-decoration-color: #008080\">             0</span> │ <span style=\"color: #00d7ff; text-decoration-color: #00d7ff\">False                </span> │ <span style=\"color: #008080; text-decoration-color: #008080\">                 8</span> │  │\n",
       "│ └──────────────────────────────────┴───────────┴────────────────┴───────────────────────┴────────────────────┘  │\n",
       "╰────────────────────────────────────────────────────── End ──────────────────────────────────────────────────────╯\n",
       "</pre>\n"
      ],
      "text/plain": [
       "╭──────────────────────────────────────────────── skimpy summary ─────────────────────────────────────────────────╮\n",
       "│ \u001b[3m         Data Summary         \u001b[0m \u001b[3m      Data Types       \u001b[0m \u001b[3m       Categories        \u001b[0m                                │\n",
       "│ ┏━━━━━━━━━━━━━━━━━━━┳━━━━━━━━┓ ┏━━━━━━━━━━━━━┳━━━━━━━┓ ┏━━━━━━━━━━━━━━━━━━━━━━━┓                                │\n",
       "│ ┃\u001b[1;36m \u001b[0m\u001b[1;36mdataframe        \u001b[0m\u001b[1;36m \u001b[0m┃\u001b[1;36m \u001b[0m\u001b[1;36mValues\u001b[0m\u001b[1;36m \u001b[0m┃ ┃\u001b[1;36m \u001b[0m\u001b[1;36mColumn Type\u001b[0m\u001b[1;36m \u001b[0m┃\u001b[1;36m \u001b[0m\u001b[1;36mCount\u001b[0m\u001b[1;36m \u001b[0m┃ ┃\u001b[1;36m \u001b[0m\u001b[1;36mCategorical Variables\u001b[0m\u001b[1;36m \u001b[0m┃                                │\n",
       "│ ┡━━━━━━━━━━━━━━━━━━━╇━━━━━━━━┩ ┡━━━━━━━━━━━━━╇━━━━━━━┩ ┡━━━━━━━━━━━━━━━━━━━━━━━┩                                │\n",
       "│ │ Number of rows    │ 53940  │ │ float64     │ 6     │ │ cut                   │                                │\n",
       "│ │ Number of columns │ 10     │ │ category    │ 3     │ │ color                 │                                │\n",
       "│ └───────────────────┴────────┘ │ int32       │ 1     │ │ clarity               │                                │\n",
       "│                                └─────────────┴───────┘ └───────────────────────┘                                │\n",
       "│ \u001b[3m                                                    number                                                    \u001b[0m  │\n",
       "│ ┏━━━━━━━━━━━━━━━━━━━━┳━━━━━━┳━━━━━━━━━┳━━━━━━━━━┳━━━━━━━━━┳━━━━━━━━┳━━━━━━━━┳━━━━━━━━━┳━━━━━━━━━━┳━━━━━━━━━━━┓  │\n",
       "│ ┃\u001b[1m \u001b[0m\u001b[1mcolumn_name       \u001b[0m\u001b[1m \u001b[0m┃\u001b[1m \u001b[0m\u001b[1mNA  \u001b[0m\u001b[1m \u001b[0m┃\u001b[1m \u001b[0m\u001b[1mNA %   \u001b[0m\u001b[1m \u001b[0m┃\u001b[1m \u001b[0m\u001b[1mmean   \u001b[0m\u001b[1m \u001b[0m┃\u001b[1m \u001b[0m\u001b[1msd     \u001b[0m\u001b[1m \u001b[0m┃\u001b[1m \u001b[0m\u001b[1mp0    \u001b[0m\u001b[1m \u001b[0m┃\u001b[1m \u001b[0m\u001b[1mp25   \u001b[0m\u001b[1m \u001b[0m┃\u001b[1m \u001b[0m\u001b[1mp75    \u001b[0m\u001b[1m \u001b[0m┃\u001b[1m \u001b[0m\u001b[1mp100    \u001b[0m\u001b[1m \u001b[0m┃\u001b[1m \u001b[0m\u001b[1mhist     \u001b[0m\u001b[1m \u001b[0m┃  │\n",
       "│ ┡━━━━━━━━━━━━━━━━━━━━╇━━━━━━╇━━━━━━━━━╇━━━━━━━━━╇━━━━━━━━━╇━━━━━━━━╇━━━━━━━━╇━━━━━━━━━╇━━━━━━━━━━╇━━━━━━━━━━━┩  │\n",
       "│ │ \u001b[38;5;141mcarat             \u001b[0m │ \u001b[36m   0\u001b[0m │ \u001b[36m      0\u001b[0m │ \u001b[36m    0.8\u001b[0m │ \u001b[36m   0.47\u001b[0m │ \u001b[36m   0.2\u001b[0m │ \u001b[36m   0.4\u001b[0m │ \u001b[36m      1\u001b[0m │ \u001b[36m       5\u001b[0m │ \u001b[32m   █▃    \u001b[0m │  │\n",
       "│ │ \u001b[38;5;141mdepth             \u001b[0m │ \u001b[36m   0\u001b[0m │ \u001b[36m      0\u001b[0m │ \u001b[36m     62\u001b[0m │ \u001b[36m    1.4\u001b[0m │ \u001b[36m    43\u001b[0m │ \u001b[36m    61\u001b[0m │ \u001b[36m     62\u001b[0m │ \u001b[36m      79\u001b[0m │ \u001b[32m    ▂█   \u001b[0m │  │\n",
       "│ │ \u001b[38;5;141mtable             \u001b[0m │ \u001b[36m   0\u001b[0m │ \u001b[36m      0\u001b[0m │ \u001b[36m     57\u001b[0m │ \u001b[36m    2.2\u001b[0m │ \u001b[36m    43\u001b[0m │ \u001b[36m    56\u001b[0m │ \u001b[36m     59\u001b[0m │ \u001b[36m      95\u001b[0m │ \u001b[32m    █▁   \u001b[0m │  │\n",
       "│ │ \u001b[38;5;141mprice             \u001b[0m │ \u001b[36m   0\u001b[0m │ \u001b[36m      0\u001b[0m │ \u001b[36m   3900\u001b[0m │ \u001b[36m   4000\u001b[0m │ \u001b[36m   330\u001b[0m │ \u001b[36m   950\u001b[0m │ \u001b[36m   5300\u001b[0m │ \u001b[36m   19000\u001b[0m │ \u001b[32m  █▃▁▁   \u001b[0m │  │\n",
       "│ │ \u001b[38;5;141mx                 \u001b[0m │ \u001b[36m   0\u001b[0m │ \u001b[36m      0\u001b[0m │ \u001b[36m    5.7\u001b[0m │ \u001b[36m    1.1\u001b[0m │ \u001b[36m     0\u001b[0m │ \u001b[36m   4.7\u001b[0m │ \u001b[36m    6.5\u001b[0m │ \u001b[36m      11\u001b[0m │ \u001b[32m    ██▂  \u001b[0m │  │\n",
       "│ │ \u001b[38;5;141my                 \u001b[0m │ \u001b[36m   0\u001b[0m │ \u001b[36m      0\u001b[0m │ \u001b[36m    5.7\u001b[0m │ \u001b[36m    1.1\u001b[0m │ \u001b[36m     0\u001b[0m │ \u001b[36m   4.7\u001b[0m │ \u001b[36m    6.5\u001b[0m │ \u001b[36m      59\u001b[0m │ \u001b[32m    █    \u001b[0m │  │\n",
       "│ │ \u001b[38;5;141mz                 \u001b[0m │ \u001b[36m   0\u001b[0m │ \u001b[36m      0\u001b[0m │ \u001b[36m    3.5\u001b[0m │ \u001b[36m   0.71\u001b[0m │ \u001b[36m     0\u001b[0m │ \u001b[36m   2.9\u001b[0m │ \u001b[36m      4\u001b[0m │ \u001b[36m      32\u001b[0m │ \u001b[32m    █    \u001b[0m │  │\n",
       "│ └────────────────────┴──────┴─────────┴─────────┴─────────┴────────┴────────┴─────────┴──────────┴───────────┘  │\n",
       "│ \u001b[3m                                                   category                                                   \u001b[0m  │\n",
       "│ ┏━━━━━━━━━━━━━━━━━━━━━━━━━━━━━━━━━━┳━━━━━━━━━━━┳━━━━━━━━━━━━━━━━┳━━━━━━━━━━━━━━━━━━━━━━━┳━━━━━━━━━━━━━━━━━━━━┓  │\n",
       "│ ┃\u001b[1m \u001b[0m\u001b[1mcolumn_name                     \u001b[0m\u001b[1m \u001b[0m┃\u001b[1m \u001b[0m\u001b[1mNA       \u001b[0m\u001b[1m \u001b[0m┃\u001b[1m \u001b[0m\u001b[1mNA %          \u001b[0m\u001b[1m \u001b[0m┃\u001b[1m \u001b[0m\u001b[1mordered              \u001b[0m\u001b[1m \u001b[0m┃\u001b[1m \u001b[0m\u001b[1munique            \u001b[0m\u001b[1m \u001b[0m┃  │\n",
       "│ ┡━━━━━━━━━━━━━━━━━━━━━━━━━━━━━━━━━━╇━━━━━━━━━━━╇━━━━━━━━━━━━━━━━╇━━━━━━━━━━━━━━━━━━━━━━━╇━━━━━━━━━━━━━━━━━━━━┩  │\n",
       "│ │ \u001b[38;5;141mcut                             \u001b[0m │ \u001b[36m        0\u001b[0m │ \u001b[36m             0\u001b[0m │ \u001b[38;5;45mFalse                \u001b[0m │ \u001b[36m                 5\u001b[0m │  │\n",
       "│ │ \u001b[38;5;141mcolor                           \u001b[0m │ \u001b[36m        0\u001b[0m │ \u001b[36m             0\u001b[0m │ \u001b[38;5;45mFalse                \u001b[0m │ \u001b[36m                 7\u001b[0m │  │\n",
       "│ │ \u001b[38;5;141mclarity                         \u001b[0m │ \u001b[36m        0\u001b[0m │ \u001b[36m             0\u001b[0m │ \u001b[38;5;45mFalse                \u001b[0m │ \u001b[36m                 8\u001b[0m │  │\n",
       "│ └──────────────────────────────────┴───────────┴────────────────┴───────────────────────┴────────────────────┘  │\n",
       "╰────────────────────────────────────────────────────── End ──────────────────────────────────────────────────────╯\n"
      ]
     },
     "metadata": {},
     "output_type": "display_data"
    }
   ],
   "source": [
    "diamond = sns.load_dataset('diamonds')\n",
    "skim(diamond)"
   ]
  },
  {
   "cell_type": "code",
   "execution_count": 8,
   "metadata": {},
   "outputs": [
    {
     "name": "stderr",
     "output_type": "stream",
     "text": [
      "c:\\Users\\Windows 10\\AppData\\Local\\Programs\\Python\\Python311\\Lib\\site-packages\\dtale\\views.py:756: FutureWarning:\n",
      "\n",
      "['cut', 'color', 'clarity'] did not aggregate successfully. If any error is raised this will raise in a future version of pandas. Drop these columns/ops to avoid this warning.\n",
      "\n"
     ]
    },
    {
     "data": {
      "text/html": [
       "\n",
       "        <iframe\n",
       "            width=\"100%\"\n",
       "            height=\"475\"\n",
       "            src=\"http://ITSS-140323:40000/dtale/iframe/2\"\n",
       "            frameborder=\"0\"\n",
       "            allowfullscreen\n",
       "            \n",
       "        ></iframe>\n",
       "        "
      ],
      "text/plain": [
       "<IPython.lib.display.IFrame at 0x2d169d97750>"
      ]
     },
     "metadata": {},
     "output_type": "display_data"
    },
    {
     "data": {
      "text/plain": []
     },
     "execution_count": 8,
     "metadata": {},
     "output_type": "execute_result"
    }
   ],
   "source": [
    "dt.show(diamond)"
   ]
  },
  {
   "cell_type": "code",
   "execution_count": 11,
   "metadata": {},
   "outputs": [
    {
     "name": "stderr",
     "output_type": "stream",
     "text": [
      "c:\\Users\\Windows 10\\AppData\\Local\\Programs\\Python\\Python311\\Lib\\site-packages\\dtale\\views.py:756: FutureWarning:\n",
      "\n",
      "['cut', 'color', 'clarity'] did not aggregate successfully. If any error is raised this will raise in a future version of pandas. Drop these columns/ops to avoid this warning.\n",
      "\n",
      "2023-05-11 10:30:02,552 - INFO     - Executing shutdown...\n",
      "2023-05-11 10:30:02,570 - ERROR    - Exception on /shutdown [GET]\n",
      "Traceback (most recent call last):\n",
      "  File \"c:\\Users\\Windows 10\\AppData\\Local\\Programs\\Python\\Python311\\Lib\\site-packages\\flask\\app.py\", line 2528, in wsgi_app\n",
      "    response = self.full_dispatch_request()\n",
      "               ^^^^^^^^^^^^^^^^^^^^^^^^^^^^\n",
      "  File \"c:\\Users\\Windows 10\\AppData\\Local\\Programs\\Python\\Python311\\Lib\\site-packages\\flask\\app.py\", line 1825, in full_dispatch_request\n",
      "    rv = self.handle_user_exception(e)\n",
      "         ^^^^^^^^^^^^^^^^^^^^^^^^^^^^^\n",
      "  File \"c:\\Users\\Windows 10\\AppData\\Local\\Programs\\Python\\Python311\\Lib\\site-packages\\flask\\app.py\", line 1823, in full_dispatch_request\n",
      "    rv = self.dispatch_request()\n",
      "         ^^^^^^^^^^^^^^^^^^^^^^^\n",
      "  File \"c:\\Users\\Windows 10\\AppData\\Local\\Programs\\Python\\Python311\\Lib\\site-packages\\flask\\app.py\", line 1799, in dispatch_request\n",
      "    return self.ensure_sync(self.view_functions[rule.endpoint])(**view_args)\n",
      "           ^^^^^^^^^^^^^^^^^^^^^^^^^^^^^^^^^^^^^^^^^^^^^^^^^^^^^^^^^^^^^^^^^\n",
      "  File \"c:\\Users\\Windows 10\\AppData\\Local\\Programs\\Python\\Python311\\Lib\\site-packages\\dtale\\app.py\", line 433, in shutdown\n",
      "    shutdown_server()\n",
      "  File \"c:\\Users\\Windows 10\\AppData\\Local\\Programs\\Python\\Python311\\Lib\\site-packages\\dtale\\app.py\", line 419, in shutdown_server\n",
      "    raise RuntimeError(\"Not running with the Werkzeug Server\")\n",
      "RuntimeError: Not running with the Werkzeug Server\n"
     ]
    }
   ],
   "source": [
    "# To close the preview\n",
    "dt.show(diamond).kill()"
   ]
  },
  {
   "cell_type": "code",
   "execution_count": 14,
   "metadata": {},
   "outputs": [
    {
     "name": "stderr",
     "output_type": "stream",
     "text": [
      "c:\\Users\\Windows 10\\AppData\\Local\\Programs\\Python\\Python311\\Lib\\site-packages\\dtale\\views.py:756: FutureWarning:\n",
      "\n",
      "['cut', 'color', 'clarity'] did not aggregate successfully. If any error is raised this will raise in a future version of pandas. Drop these columns/ops to avoid this warning.\n",
      "\n"
     ]
    }
   ],
   "source": [
    "d = dt.show(diamond)\n",
    "# The command below help us to open the file on browser immediately\n",
    "d.open_browser()"
   ]
  },
  {
   "cell_type": "code",
   "execution_count": 15,
   "metadata": {},
   "outputs": [
    {
     "name": "stderr",
     "output_type": "stream",
     "text": [
      "2023-05-11 10:32:41,687 - INFO     - Executing shutdown...\n",
      "2023-05-11 10:32:41,691 - ERROR    - Exception on /shutdown [GET]\n",
      "Traceback (most recent call last):\n",
      "  File \"c:\\Users\\Windows 10\\AppData\\Local\\Programs\\Python\\Python311\\Lib\\site-packages\\flask\\app.py\", line 2528, in wsgi_app\n",
      "    response = self.full_dispatch_request()\n",
      "               ^^^^^^^^^^^^^^^^^^^^^^^^^^^^\n",
      "  File \"c:\\Users\\Windows 10\\AppData\\Local\\Programs\\Python\\Python311\\Lib\\site-packages\\flask\\app.py\", line 1825, in full_dispatch_request\n",
      "    rv = self.handle_user_exception(e)\n",
      "         ^^^^^^^^^^^^^^^^^^^^^^^^^^^^^\n",
      "  File \"c:\\Users\\Windows 10\\AppData\\Local\\Programs\\Python\\Python311\\Lib\\site-packages\\flask\\app.py\", line 1823, in full_dispatch_request\n",
      "    rv = self.dispatch_request()\n",
      "         ^^^^^^^^^^^^^^^^^^^^^^^\n",
      "  File \"c:\\Users\\Windows 10\\AppData\\Local\\Programs\\Python\\Python311\\Lib\\site-packages\\flask\\app.py\", line 1799, in dispatch_request\n",
      "    return self.ensure_sync(self.view_functions[rule.endpoint])(**view_args)\n",
      "           ^^^^^^^^^^^^^^^^^^^^^^^^^^^^^^^^^^^^^^^^^^^^^^^^^^^^^^^^^^^^^^^^^\n",
      "  File \"c:\\Users\\Windows 10\\AppData\\Local\\Programs\\Python\\Python311\\Lib\\site-packages\\dtale\\app.py\", line 433, in shutdown\n",
      "    shutdown_server()\n",
      "  File \"c:\\Users\\Windows 10\\AppData\\Local\\Programs\\Python\\Python311\\Lib\\site-packages\\dtale\\app.py\", line 419, in shutdown_server\n",
      "    raise RuntimeError(\"Not running with the Werkzeug Server\")\n",
      "RuntimeError: Not running with the Werkzeug Server\n"
     ]
    }
   ],
   "source": [
    "d.kill()"
   ]
  }
 ],
 "metadata": {
  "kernelspec": {
   "display_name": "Python 3",
   "language": "python",
   "name": "python3"
  },
  "language_info": {
   "codemirror_mode": {
    "name": "ipython",
    "version": 3
   },
   "file_extension": ".py",
   "mimetype": "text/x-python",
   "name": "python",
   "nbconvert_exporter": "python",
   "pygments_lexer": "ipython3",
   "version": "3.11.2"
  },
  "orig_nbformat": 4
 },
 "nbformat": 4,
 "nbformat_minor": 2
}
